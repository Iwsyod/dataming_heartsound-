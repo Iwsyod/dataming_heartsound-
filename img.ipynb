{
 "cells": [
  {
   "cell_type": "code",
   "execution_count": 1,
   "metadata": {},
   "outputs": [],
   "source": [
    "import numpy as np\n",
    "import pandas as pd\n",
    "import matplotlib.pyplot as plt\n",
    "import seaborn as sns\n",
    "from sklearn.decomposition import PCA\n",
    "from sklearn.preprocessing import StandardScaler\n",
    "\n",
    "# 加载数据\n",
    "data_features = np.load('data_feature.npy')\n",
    "data_labels = np.load('data_label.npy')"
   ]
  },
  {
   "cell_type": "code",
   "execution_count": null,
   "metadata": {},
   "outputs": [],
   "source": [
    "# 由于每个特征是二维的，我们选择第一维进行示例\n",
    "selected_features_idx = np.random.choice(3000, 30, replace=False)  # 随机选择30个特征\n",
    "selected_features = data_feature[:, selected_features_idx, 0]  # 取第一维\n",
    "\n",
    "# 计算相关矩阵\n",
    "correlation_matrix = np.corrcoef(selected_features, rowvar=False)\n",
    "\n",
    "# 绘制热图\n",
    "plt.figure(figsize=(10, 8))\n",
    "sns.heatmap(correlation_matrix, annot=False, cmap='coolwarm', cbar=True)\n",
    "plt.title('Heatmap of Feature Correlations')\n",
    "plt.xlabel('Selected Features')\n",
    "plt.ylabel('Selected Features')\n",
    "plt.show()"
   ]
  },
  {
   "cell_type": "code",
   "execution_count": null,
   "metadata": {},
   "outputs": [],
   "source": [
    "# 数据标准化\n",
    "scaler = StandardScaler()\n",
    "features_scaled = scaler.fit_transform(data_feature.reshape(-1, 6000))  # 将每个样本的两个维度展平\n",
    "\n",
    "# 执行PCA\n",
    "pca = PCA(n_components=2)  # 选择前两个主成分\n",
    "pca_result = pca.fit_transform(features_scaled)\n",
    "\n",
    "# 可视化结果\n",
    "plt.figure(figsize=(8, 6))\n",
    "plt.scatter(pca_result[:, 0], pca_result[:, 1], c=data_label, cmap='viridis', alpha=0.5)\n",
    "plt.colorbar(label='Label')\n",
    "plt.title('PCA of Features')\n",
    "plt.xlabel('Principal Component 1')\n",
    "plt.ylabel('Principal Component 2')\n",
    "plt.show()"
   ]
  }
 ],
 "metadata": {
  "kernelspec": {
   "display_name": "Python 3",
   "language": "python",
   "name": "python3"
  },
  "language_info": {
   "codemirror_mode": {
    "name": "ipython",
    "version": 3
   },
   "file_extension": ".py",
   "mimetype": "text/x-python",
   "name": "python",
   "nbconvert_exporter": "python",
   "pygments_lexer": "ipython3",
   "version": "3.7.0"
  }
 },
 "nbformat": 4,
 "nbformat_minor": 2
}
